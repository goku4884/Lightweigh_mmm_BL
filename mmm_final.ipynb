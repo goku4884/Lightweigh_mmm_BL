{
 "cells": [
  {
   "cell_type": "code",
   "execution_count": 1,
   "id": "f6e4e571",
   "metadata": {},
   "outputs": [],
   "source": [
    "import json \n",
    "import pandas as pd\n",
    "import numpy as np\n",
    "import jax.numpy as jnp\n",
    "import numpyro\n",
    "from sklearn.feature_selection import SelectKBest, chi2\n",
    "from matplotlib import pyplot as plt\n",
    "from lightweight_mmm import lightweight_mmm\n",
    "from lightweight_mmm import optimize_media\n",
    "from lightweight_mmm import preprocessing\n",
    "from lightweight_mmm import utils\n",
    "from lightweight_mmm import plot\n",
    "\n",
    "df=pd.read_csv('Brother_MMM.csv')\n",
    "df=df[df['Category']=='B2B Printing']"
   ]
  },
  {
   "cell_type": "code",
   "execution_count": 2,
   "id": "de34759d",
   "metadata": {},
   "outputs": [],
   "source": [
    "\n",
    "def open_json(string):                                     \n",
    "    a = open(string)\n",
    "    data_a = json.load(a)\n",
    "    return data_a"
   ]
  },
  {
   "cell_type": "code",
   "execution_count": 6,
   "id": "b804cf11",
   "metadata": {},
   "outputs": [],
   "source": [
    "def model_summary_plot(df,input_json,model_name,number_warmup,number_samples,number_chains,weekday_seasonality,degrees_seasonality):\n",
    "    inp=open_json('mmm_input.json')\n",
    "    \n",
    "    other_feautures=df[inp['other_feautures']].to_numpy()\n",
    "    costs=df[inp['costs']].sum().to_numpy()\n",
    "    target=df[inp['target']].to_numpy()\n",
    "    media_data=df[inp['media_data']].to_numpy()\n",
    "        \n",
    "    split_point = int(len(df) * 0.8)\n",
    "    media_data_train = media_data[:split_point]\n",
    "    media_data_test = media_data[split_point:]\n",
    "    target_train=target[:split_point].reshape(-1)\n",
    "    \n",
    "    media_scaler =  preprocessing.CustomScaler(divide_operation=jnp.mean)\n",
    "    target_scaler = preprocessing.CustomScaler(divide_operation=jnp.mean)\n",
    "    cost_scaler =   preprocessing.CustomScaler(divide_operation=jnp.mean)\n",
    "    \n",
    "    media_data_train = media_scaler.fit_transform(media_data_train)\n",
    "    target_train = target_scaler.fit_transform(target_train)\n",
    "    costs2 = cost_scaler.fit_transform(costs)\n",
    "    \n",
    "    selector = SelectKBest(chi2, k=5)  \n",
    "    selector.fit(other_feautures, target)\n",
    "    df = pd.DataFrame(other_feautures)\n",
    "    best_features = df.columns[selector.get_support()]\n",
    "    \n",
    "    other_feautures = df[best_features].to_numpy()\n",
    "    \n",
    "    mmm = lightweight_mmm.LightweightMMM(model_name=model_name)\n",
    "    \n",
    "    number_warmup=number_samples\n",
    "    number_samples=number_samples\n",
    "    \n",
    "    mmm.fit(\n",
    "    media=media_data_train,\n",
    "    media_prior=costs2,\n",
    "    target=target_train,\n",
    "    number_warmup=number_warmup,\n",
    "    number_samples=number_samples,target_accept_prob=0.85,\n",
    "    number_chains=number_chains,weekday_seasonality=weekday_seasonality,degrees_seasonality=degrees_seasonality\n",
    "    )\n",
    "    \n",
    "    mmm.print_summary()\n",
    "    \n",
    "    model = plot.plot_model_fit(media_mix_model=mmm, target_scaler=target_scaler)\n",
    "    response = plot.plot_response_curves(media_mix_model=mmm, media_scaler=media_scaler, target_scaler=target_scaler)\n",
    "    media_effect_hat, roi_hat = mmm.get_posterior_metrics()\n",
    "    media_effect_hat = plot.plot_bars_media_metrics(metric=media_effect_hat,channel_names=[\"Paid_Search\", \"Paid_Social\", \"display_cost\",\"eml_COST\"])\n",
    "    roi_hat = plot.plot_bars_media_metrics(metric=roi_hat,channel_names=[\"Paid_Search\", \"Paid_Social\", \"display_cost\",\"eml_COST\"])\n",
    "    \n",
    "    model.savefig('model.png')\n",
    "    response.savefig('response.png')\n",
    "    media_effect_hat.savefig('media_effect_hat.png')\n",
    "    roi_hat.savefig('roi_hat.png')\n",
    "    \n",
    "    plt.close(model)\n",
    "    plt.close(response)\n",
    "    plt.close(media_effect_hat)\n",
    "    plt.close(roi_hat)\n",
    "    "
   ]
  },
  {
   "cell_type": "code",
   "execution_count": 20,
   "id": "4b18a7ab",
   "metadata": {},
   "outputs": [
    {
     "name": "stderr",
     "output_type": "stream",
     "text": [
      "WARNING:absl:You have chosen daily seasonality and frequency 52 (weekly), please check you made the right seasonality choices.\n",
      "C:\\Users\\AvinashPreema\\anaconda3\\lib\\site-packages\\lightweight_mmm\\lightweight_mmm.py:358: UserWarning: There are not enough devices to run parallel chains: expected 2 but got 1. Chains will be drawn sequentially. If you are running MCMC in CPU, consider using `numpyro.set_host_device_count(2)` at the beginning of your program. You can double-check how many devices are available in your system using `jax.local_device_count()`.\n",
      "  mcmc = numpyro.infer.MCMC(\n",
      "sample: 100%|██████████████████████████| 2000/2000 [01:19<00:00, 25.08it/s, 255 steps of size 1.61e-02. acc. prob=0.92]\n",
      "sample: 100%|██████████████████████████| 2000/2000 [01:11<00:00, 28.15it/s, 255 steps of size 1.60e-02. acc. prob=0.96]\n"
     ]
    },
    {
     "name": "stdout",
     "output_type": "stream",
     "text": [
      "\n",
      "                                         mean       std    median      5.0%     95.0%     n_eff     r_hat\n",
      "                      coef_media[0]      1.17      0.20      1.16      0.85      1.47    286.71      1.00\n",
      "                      coef_media[1]      0.14      0.13      0.11      0.00      0.29    562.74      1.00\n",
      "                      coef_media[2]      0.41      0.32      0.35      0.22      0.49     61.82      1.03\n",
      "                      coef_media[3]      0.00      0.00      0.00      0.00      0.00    773.41      1.00\n",
      "                      coef_trend[0]     -0.02      0.01     -0.02     -0.04     -0.00    216.18      1.01\n",
      "                         expo_trend      0.66      0.15      0.62      0.50      0.89    424.73      1.00\n",
      "             gamma_seasonality[0,0]     -0.17      0.04     -0.17     -0.25     -0.11    215.00      1.00\n",
      "             gamma_seasonality[0,1]      0.05      0.03      0.05      0.01      0.09    335.46      1.00\n",
      "             gamma_seasonality[1,0]      0.05      0.02      0.05      0.02      0.08    365.44      1.01\n",
      "             gamma_seasonality[1,1]      0.11      0.03      0.11      0.06      0.16    364.34      1.00\n",
      "             gamma_seasonality[2,0]      0.06      0.02      0.06      0.02      0.09    669.80      1.00\n",
      "             gamma_seasonality[2,1]     -0.02      0.02     -0.02     -0.05      0.03    510.45      1.00\n",
      "             gamma_seasonality[3,0]     -0.01      0.02     -0.01     -0.04      0.02    642.94      1.00\n",
      "             gamma_seasonality[3,1]      0.01      0.02      0.02     -0.02      0.05    685.40      1.00\n",
      "             gamma_seasonality[4,0]      0.02      0.02      0.01     -0.02      0.05    821.37      1.00\n",
      "             gamma_seasonality[4,1]     -0.02      0.02     -0.02     -0.05      0.02    814.85      1.00\n",
      "             gamma_seasonality[5,0]      0.03      0.02      0.03     -0.01      0.06    626.38      1.00\n",
      "             gamma_seasonality[5,1]     -0.00      0.02     -0.00     -0.03      0.03    754.82      1.00\n",
      "half_max_effective_concentration[0]      0.30      0.11      0.30      0.13      0.44    326.13      1.01\n",
      "half_max_effective_concentration[1]      1.04      1.02      0.71      0.00      2.40    895.83      1.00\n",
      "half_max_effective_concentration[2]      0.24      0.24      0.22      0.09      0.31    170.02      1.01\n",
      "half_max_effective_concentration[3]      1.00      1.00      0.68      0.00      2.39   1209.67      1.00\n",
      "                       intercept[0]      0.13      0.12      0.10      0.00      0.29    455.84      1.00\n",
      "                      lag_weight[0]      0.65      0.11      0.65      0.47      0.85    523.30      1.01\n",
      "                      lag_weight[1]      0.58      0.27      0.59      0.22      1.00    508.34      1.00\n",
      "                      lag_weight[2]      0.87      0.05      0.87      0.80      0.94     97.35      1.00\n",
      "                      lag_weight[3]      0.74      0.18      0.77      0.47      1.00    585.39      1.00\n",
      "                           sigma[0]      0.13      0.01      0.13      0.11      0.15    333.01      1.01\n",
      "                           slope[0]      2.91      1.24      2.73      1.01      4.57    557.54      1.00\n",
      "                           slope[1]      0.84      0.86      0.57      0.01      1.96    758.20      1.00\n",
      "                           slope[2]      3.53      1.66      3.34      0.73      5.92    165.26      1.02\n",
      "                           slope[3]      0.88      0.88      0.62      0.00      2.00   1340.29      1.00\n",
      "                         weekday[0]     -0.24      0.16     -0.23     -0.48      0.02    190.02      1.00\n",
      "                         weekday[1]     -0.29      0.16     -0.28     -0.54     -0.02    200.17      1.00\n",
      "                         weekday[2]     -0.25      0.16     -0.25     -0.52     -0.00    192.62      1.00\n",
      "                         weekday[3]     -0.28      0.16     -0.27     -0.54     -0.02    190.54      1.00\n",
      "                         weekday[4]     -0.21      0.16     -0.21     -0.47      0.03    187.73      1.00\n",
      "                         weekday[5]     -0.23      0.16     -0.23     -0.47      0.03    184.92      1.00\n",
      "                         weekday[6]     -0.20      0.16     -0.19     -0.45      0.07    196.22      1.00\n",
      "\n",
      "Number of divergences: 1188\n"
     ]
    },
    {
     "name": "stderr",
     "output_type": "stream",
     "text": [
      "WARNING:absl:Unscaled cost data or cost scaler were not given and  therefore unscaling wont be applied to calculcate contribution and ROI. If data was not scaled prior to training please ignore this warning.\n",
      "WARNING:absl:Target scaler was not given and unscaling of the target will not occur. If your target was not scaled prior to training you can ignore this warning.\n"
     ]
    }
   ],
   "source": [
    "mmm=model_summary_plot(df,'mmm_input.json','hill_adstock',500,1000,2,True,6)"
   ]
  },
  {
   "cell_type": "code",
   "execution_count": null,
   "id": "94d8d162",
   "metadata": {},
   "outputs": [],
   "source": []
  },
  {
   "cell_type": "code",
   "execution_count": null,
   "id": "4a65be2d",
   "metadata": {},
   "outputs": [],
   "source": []
  }
 ],
 "metadata": {
  "kernelspec": {
   "display_name": "Python 3 (ipykernel)",
   "language": "python",
   "name": "python3"
  },
  "language_info": {
   "codemirror_mode": {
    "name": "ipython",
    "version": 3
   },
   "file_extension": ".py",
   "mimetype": "text/x-python",
   "name": "python",
   "nbconvert_exporter": "python",
   "pygments_lexer": "ipython3",
   "version": "3.9.13"
  }
 },
 "nbformat": 4,
 "nbformat_minor": 5
}
